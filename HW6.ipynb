{
  "nbformat": 4,
  "nbformat_minor": 0,
  "metadata": {
    "colab": {
      "provenance": [],
      "authorship_tag": "ABX9TyNqZQbuovZIK086fwXbn7XU",
      "include_colab_link": true
    },
    "kernelspec": {
      "name": "python3",
      "display_name": "Python 3"
    },
    "language_info": {
      "name": "python"
    }
  },
  "cells": [
    {
      "cell_type": "markdown",
      "metadata": {
        "id": "view-in-github",
        "colab_type": "text"
      },
      "source": [
        "<a href=\"https://colab.research.google.com/github/HoangPhi0103/Github-HW6/blob/main/HW6.ipynb\" target=\"_parent\"><img src=\"https://colab.research.google.com/assets/colab-badge.svg\" alt=\"Open In Colab\"/></a>"
      ]
    },
    {
      "cell_type": "code",
      "source": [
        "items=[\"Vong\",\"Ly\",\"Phung\",\"Xinh\",\"Dep\"]\n"
      ],
      "metadata": {
        "id": "6YpyaQc2Gq6v"
      },
      "execution_count": 23,
      "outputs": []
    },
    {
      "cell_type": "code",
      "source": [
        "print(f\"{items[2]}\\t{items[3]}\\t{items[4]}\")"
      ],
      "metadata": {
        "id": "6w-a-bAhGzRz",
        "outputId": "d7c0e93c-7ebd-4d1f-e309-68ec63486bb1",
        "colab": {
          "base_uri": "https://localhost:8080/"
        }
      },
      "execution_count": 24,
      "outputs": [
        {
          "output_type": "stream",
          "name": "stdout",
          "text": [
            "Phung\tXinh\tDep\n"
          ]
        }
      ]
    }
  ]
}