{
  "nbformat": 4,
  "nbformat_minor": 0,
  "metadata": {
    "colab": {
      "provenance": [],
      "authorship_tag": "ABX9TyMJaP0GXJkR/tHgzb34MMBu",
      "include_colab_link": true
    },
    "kernelspec": {
      "name": "python3",
      "display_name": "Python 3"
    },
    "language_info": {
      "name": "python"
    }
  },
  "cells": [
    {
      "cell_type": "markdown",
      "metadata": {
        "id": "view-in-github",
        "colab_type": "text"
      },
      "source": [
        "<a href=\"https://colab.research.google.com/github/HoangPhi0103/Github-HW6/blob/main/HW6.ipynb\" target=\"_parent\"><img src=\"https://colab.research.google.com/assets/colab-badge.svg\" alt=\"Open In Colab\"/></a>"
      ]
    },
    {
      "cell_type": "code",
      "source": [
        "print(\"My name is Vong Ly Phung\")"
      ],
      "metadata": {
        "colab": {
          "base_uri": "https://localhost:8080/"
        },
        "id": "KLEPZ5u355jT",
        "outputId": "f4626e32-63c6-4254-f22d-2e4376fd4aa6"
      },
      "execution_count": 3,
      "outputs": [
        {
          "output_type": "stream",
          "name": "stdout",
          "text": [
            "My name is Vong Ly Phung\n"
          ]
        }
      ]
    },
    {
      "cell_type": "code",
      "source": [
        "items=[\"Vong\",\"Ly\",\"Phung\",\"Xinh\",\"Dep\"]"
      ],
      "metadata": {
        "id": "9SCx-pI36492"
      },
      "execution_count": 5,
      "outputs": []
    },
    {
      "cell_type": "code",
      "source": [
        "print(items[2]+\" \"+items[3]+\" \"+items[4])"
      ],
      "metadata": {
        "id": "1UC95RE-68Gl",
        "outputId": "a921abd7-e332-410e-c03a-70077331df17",
        "colab": {
          "base_uri": "https://localhost:8080/"
        }
      },
      "execution_count": 11,
      "outputs": [
        {
          "output_type": "stream",
          "name": "stdout",
          "text": [
            "Phung Xinh Dep\n"
          ]
        }
      ]
    }
  ]
}